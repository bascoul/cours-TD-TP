{
 "cells": [
  {
   "cell_type": "markdown",
   "metadata": {
    "colab_type": "text",
    "id": "jrI6q7RmWQam"
   },
   "source": [
    "<table align=\"center\">\n",
    "  <td align=\"center\"><a target=\"_blank\" href=\"http://introtodeeplearning.com\">\n",
    "        <img src=\"http://introtodeeplearning.com/images/colab/mit.png\" style=\"padding-bottom:5px;\" />\n",
    "      Visit MIT Deep Learning</a></td>\n",
    "  <td align=\"center\"><a target=\"_blank\" href=\"https://colab.research.google.com/github/aamini/introtodeeplearning/blob/master/lab3/solutions/RL_Solution.ipynb\">\n",
    "        <img src=\"http://introtodeeplearning.com/images/colab/colab.png?v2.0\"  style=\"padding-bottom:5px;\" />Run in Google Colab</a></td>\n",
    "  <td align=\"center\"><a target=\"_blank\" href=\"https://github.com/aamini/introtodeeplearning/blob/master/lab3/solutions/RL_Solution.ipynb\">\n",
    "        <img src=\"http://introtodeeplearning.com/images/colab/github.png\"  height=\"70px\" style=\"padding-bottom:5px;\"  />View Source on GitHub</a></td>\n",
    "</table>\n",
    "\n",
    "# Copyright Information"
   ]
  },
  {
   "cell_type": "code",
   "execution_count": 0,
   "metadata": {
    "colab": {},
    "colab_type": "code",
    "id": "wkd375upWYok"
   },
   "outputs": [],
   "source": [
    "# Copyright 2020 MIT 6.S191 Introduction to Deep Learning. All Rights Reserved.\n",
    "# \n",
    "# Licensed under the MIT License. You may not use this file except in compliance\n",
    "# with the License. Use and/or modification of this code outside of 6.S191 must\n",
    "# reference:\n",
    "#\n",
    "# © MIT 6.S191: Introduction to Deep Learning\n",
    "# http://introtodeeplearning.com\n",
    "#"
   ]
  },
  {
   "cell_type": "markdown",
   "metadata": {
    "colab_type": "text",
    "id": "WoXYKhfZMHiw"
   },
   "source": [
    "# Laboratory 3: Reinforcement Learning\n",
    "\n",
    "Reinforcement learning (RL) is a subset of machine learning which poses learning problems as interactions between agents and environments. It often assumes agents have no prior knowledge of a world, so they must learn to navigate environments by optimizing a reward function. Within an environment, an agent can take certain actions and receive feedback, in the form of positive or negative rewards, with respect to their decision. As such, an agent's feedback loop is somewhat akin to the idea of \"trial and error\", or the manner in which a child might learn to distinguish between \"good\" and \"bad\" actions.\n",
    "\n",
    "In practical terms, our RL agent will interact with the environment by taking an action at each timestep, receiving a corresponding reward, and updating its state according to what it has \"learned\".  \n",
    "\n",
    "![alt text](https://www.kdnuggets.com/images/reinforcement-learning-fig1-700.jpg)\n",
    "\n",
    "While the ultimate goal of reinforcement learning is to teach agents to act in the real, physical world, games provide a convenient proving ground for developing RL algorithms and agents. Games have some properties that make them particularly well suited for RL: \n",
    "\n",
    "1.   In many cases, games have perfectly describable environments. For example, all rules of chess can be formally written and programmed into a chess game simulator;\n",
    "2.   Games are massively parallelizable. Since they do not require running in the real world, simultaneous environments can be run on large data clusters; \n",
    "3.   Simpler scenarios in games enable fast prototyping. This speeds up the development of algorithms that could eventually run in the real-world; and\n",
    "4.   ... Games are fun! \n",
    "\n",
    "In previous labs, we have explored both supervised (with LSTMs, CNNs) and unsupervised / semi-supervised (with VAEs) learning tasks. Reinforcement learning is fundamentally different, in that we are training a deep learning algorithm to govern the actions of our RL agent, that is trying, within its environment, to find the optimal way to achieve a goal. The goal of training an RL agent is to determine the best next step to take to earn the greatest final payoff or return. In this lab, we focus on building a reinforcement learning algorithm to master two different environments with varying complexity. \n",
    "\n",
    "1.   **Cartpole**:   Balance a pole, protruding from a cart, in an upright position by only moving the base left or right. Environment with a low-dimensional observation space.\n",
    "2.   [**Pong**](https://en.wikipedia.org/wiki/Pong): Beat your competitors (whether other AI or humans!) at the game of Pong. Environment with a high-dimensional observation space -- learning directly from raw pixels.\n",
    "\n",
    "Let's get started! First we'll import TensorFlow, the course package, and some dependencies.\n"
   ]
  },
  {
   "cell_type": "code",
   "execution_count": 1,
   "metadata": {
    "colab": {},
    "colab_type": "code",
    "id": "EvdePP-VyVWp"
   },
   "outputs": [
    {
     "name": "stdout",
     "output_type": "stream",
     "text": [
      "Requirement already satisfied: mitdeeplearning in c:\\users\\user\\anaconda3\\envs\\ml-agents\\lib\\site-packages (0.1.2)\n",
      "Requirement already satisfied: tqdm in c:\\users\\user\\anaconda3\\envs\\ml-agents\\lib\\site-packages (from mitdeeplearning) (4.46.0)\n",
      "Requirement already satisfied: gym in c:\\users\\user\\anaconda3\\envs\\ml-agents\\lib\\site-packages (from mitdeeplearning) (0.17.2)\n",
      "Requirement already satisfied: numpy in c:\\users\\user\\anaconda3\\envs\\ml-agents\\lib\\site-packages (from mitdeeplearning) (1.18.4)\n",
      "Requirement already satisfied: regex in c:\\users\\user\\anaconda3\\envs\\ml-agents\\lib\\site-packages (from mitdeeplearning) (2020.5.14)\n",
      "Requirement already satisfied: pyglet<=1.5.0,>=1.4.0 in c:\\users\\user\\anaconda3\\envs\\ml-agents\\lib\\site-packages (from gym->mitdeeplearning) (1.5.0)\n",
      "Requirement already satisfied: scipy in c:\\users\\user\\anaconda3\\envs\\ml-agents\\lib\\site-packages (from gym->mitdeeplearning) (1.4.1)\n",
      "Requirement already satisfied: cloudpickle<1.4.0,>=1.2.0 in c:\\users\\user\\anaconda3\\envs\\ml-agents\\lib\\site-packages (from gym->mitdeeplearning) (1.3.0)\n",
      "Requirement already satisfied: future in c:\\users\\user\\anaconda3\\envs\\ml-agents\\lib\\site-packages (from pyglet<=1.5.0,>=1.4.0->gym->mitdeeplearning) (0.18.2)\n"
     ]
    }
   ],
   "source": [
    "import tensorflow as tf\n",
    "\n",
    "import numpy as np\n",
    "import base64, io, time, gym\n",
    "import IPython, functools\n",
    "import matplotlib.pyplot as plt\n",
    "from tqdm import tqdm\n",
    "\n",
    "!pip install mitdeeplearning\n",
    "import mitdeeplearning as mdl"
   ]
  },
  {
   "cell_type": "markdown",
   "metadata": {
    "colab_type": "text",
    "id": "zmrHSiXKTXTY"
   },
   "source": [
    "Before we dive in, let's take a step back and outline our approach, which is generally applicable to reinforcement learning problems in general:\n",
    "\n",
    "1. **Initialize our environment and our agent**: here we will describe the different observations and actions the agent can make in the environemnt.\n",
    "2. **Define our agent's memory**: this will enable the agent to remember its past actions, observations, and rewards.\n",
    "3. **Define a reward function**: describes the reward associated with an action or sequence of actions.\n",
    "4. **Define the learning algorithm**: this will be used to reinforce the agent's good behaviors and discourage bad behaviors.\n"
   ]
  },
  {
   "cell_type": "markdown",
   "metadata": {
    "colab_type": "text",
    "id": "UT7YL8KBJIIc"
   },
   "source": [
    "# Part 1: Cartpole\n",
    "\n",
    "## 3.1 Define the Cartpole environment and agent\n",
    "\n",
    "### Environment \n",
    "\n",
    "In order to model the environment for both the Cartpole and Pong tasks, we'll be using a toolkit developed by OpenAI called [OpenAI Gym](https://gym.openai.com/). It provides several pre-defined environments for training and testing reinforcement learning agents, including those for classic physics control tasks, Atari video games, and robotic simulations. To access the Cartpole environment, we can use `env = gym.make(\"CartPole-v0\")`, which we gained access to when we imported the `gym` package. We can instantiate different [environments](https://gym.openai.com/envs/#classic_control) by passing the enivronment name to the `make` function.\n",
    "\n",
    "One issue we might experience when developing RL algorithms is that many aspects of the learning process are inherently random: initializing game states, changes in the environment, and the agent's actions. As such, it can be helpful to set a initial \"seed\" for the environment to ensure some level of reproducibility. Much like you might use `numpy.random.seed`, we can call the comparable function in gym, `seed`, with our defined environment to ensure the environment's random variables are initialized the same each time."
   ]
  },
  {
   "cell_type": "code",
   "execution_count": 2,
   "metadata": {
    "colab": {},
    "colab_type": "code",
    "id": "quv9SC0iIYFm"
   },
   "outputs": [
    {
     "data": {
      "text/plain": [
       "[1]"
      ]
     },
     "execution_count": 2,
     "metadata": {},
     "output_type": "execute_result"
    }
   ],
   "source": [
    "### Instantiate the Cartpole environment ###\n",
    "\n",
    "env = gym.make(\"CartPole-v0\")\n",
    "env.seed(1)"
   ]
  },
  {
   "cell_type": "markdown",
   "metadata": {
    "colab_type": "text",
    "id": "mhEITUcKK455"
   },
   "source": [
    "In Cartpole, a pole is attached by an un-actuated joint to a cart, which moves along a frictionless track. The pole starts upright, and the goal is to prevent it from falling over. The system is controlled by applying a force of +1 or -1 to the cart. A reward of +1 is provided for every timestep that the pole remains upright. The episode ends when the pole is more than 15 degrees from vertical, or the cart moves more than 2.4 units from the center of the track. A visual summary of the cartpole environment is depicted below:\n",
    "\n",
    "<img width=\"400px\" src=\"https://danielpiedrahita.files.wordpress.com/2017/02/cart-pole.png\"></img>\n",
    "\n",
    "Given this setup for the environment and the objective of the game, we can think about: 1) what observations help define the environment's state; 2) what actions the agent can take. \n",
    "\n",
    "First, let's consider the observation space. In this Cartpole environment our observations are:\n",
    "\n",
    "1. Cart position\n",
    "2. Cart velocity\n",
    "3. Pole angle\n",
    "4. Pole rotation rate\n",
    "\n",
    "We can confirm the size of the space by querying the environment's observation space:\n"
   ]
  },
  {
   "cell_type": "code",
   "execution_count": 3,
   "metadata": {
    "colab": {},
    "colab_type": "code",
    "id": "UVJaEcbdIX82"
   },
   "outputs": [
    {
     "name": "stdout",
     "output_type": "stream",
     "text": [
      "Environment has observation space = Box(4,)\n"
     ]
    }
   ],
   "source": [
    "n_observations = env.observation_space\n",
    "print(\"Environment has observation space =\", n_observations)"
   ]
  },
  {
   "cell_type": "markdown",
   "metadata": {
    "colab_type": "text",
    "id": "ZibGgjrALgPM"
   },
   "source": [
    "Second, we consider the action space. At every time step, the agent can move either right or left. Again we can confirm the size of the action space by querying the environment:"
   ]
  },
  {
   "cell_type": "code",
   "execution_count": 4,
   "metadata": {
    "colab": {},
    "colab_type": "code",
    "id": "qc9SIPxBIXrm"
   },
   "outputs": [
    {
     "name": "stdout",
     "output_type": "stream",
     "text": [
      "Number of possible actions that the agent can choose from = 2\n"
     ]
    }
   ],
   "source": [
    "n_actions = env.action_space.n\n",
    "print(\"Number of possible actions that the agent can choose from =\", n_actions)"
   ]
  },
  {
   "cell_type": "markdown",
   "metadata": {
    "colab_type": "text",
    "id": "pPfHME8aRKkb"
   },
   "source": [
    "### Cartpole agent\n",
    "\n",
    "Now that we have instantiated the environment and understood the dimensionality of the observation and action spaces, we are ready to define our agent. In deep reinforcement learning, a deep neural network defines the agent. This network will take as input an observation of the environment and output the probability of taking each of the possible actions. Since Cartpole is defined by a low-dimensional observation space, a simple feed-forward neural network should work well for our agent. We will define this using the `Sequential` API.\n"
   ]
  },
  {
   "cell_type": "code",
   "execution_count": 5,
   "metadata": {
    "colab": {},
    "colab_type": "code",
    "id": "W-o_XK4oQ4eu"
   },
   "outputs": [],
   "source": [
    "### Define the Cartpole agent ###\n",
    "\n",
    "# Defines a feed-forward neural network\n",
    "def create_cartpole_model():\n",
    "  model = tf.keras.models.Sequential([\n",
    "      # First Dense layer\n",
    "      tf.keras.layers.Dense(units=32, activation='relu'),\n",
    "\n",
    "      # TODO: Define the last Dense layer, which will provide the network's output.\n",
    "      # Think about the space the agent needs to act in!\n",
    "      tf.keras.layers.Dense(units=n_actions, activation=None) # TODO\n",
    "      # [TODO Dense layer to output action probabilities]\n",
    "  ])\n",
    "  return model\n",
    "\n",
    "cartpole_model = create_cartpole_model()"
   ]
  },
  {
   "cell_type": "markdown",
   "metadata": {
    "colab_type": "text",
    "id": "d5D5NSIYS2IW"
   },
   "source": [
    "Now that we have defined the core network architecture, we will define an *action function* that executes a forward pass through the network, given a set of observations, and samples from the output. This sampling from the output probabilities will be used to select the next action for the agent. \n",
    "\n",
    "**Critically, this action function is totally general -- we will use this function for both Cartpole and Pong, and it is applicable to other RL tasks, as well!**"
   ]
  },
  {
   "cell_type": "code",
   "execution_count": 6,
   "metadata": {
    "colab": {},
    "colab_type": "code",
    "id": "E_vVZRr8Q4R_"
   },
   "outputs": [],
   "source": [
    "### Define the agent's action function ###\n",
    "\n",
    "# Function that takes observations as input, executes a forward pass through model, \n",
    "#   and outputs a sampled action.\n",
    "# Arguments:\n",
    "#   model: the network that defines our agent\n",
    "#   observation: observation which is fed as input to the model\n",
    "# Returns:\n",
    "#   action: choice of agent action\n",
    "def choose_action(model, observation):\n",
    "  # add batch dimension to the observation\n",
    "  observation = np.expand_dims(observation, axis=0)\n",
    "\n",
    "  '''TODO: feed the observations through the model to predict the log probabilities of each possible action.'''\n",
    "  logits = model.predict(observation) # TODO\n",
    "  # logits = model.predict('''TODO''')\n",
    "  \n",
    "  # pass the log probabilities through a softmax to compute true probabilities\n",
    "  prob_weights = tf.nn.softmax(logits).numpy()\n",
    "  \n",
    "  '''TODO: randomly sample from the prob_weights to pick an action.\n",
    "  Hint: carefully consider the dimensionality of the input probabilities (vector) and the output action (scalar)'''\n",
    "  action = np.random.choice(n_actions, size=1, p=prob_weights.flatten())[0] # TODO\n",
    "  # action = np.random.choice('''TODO''', size=1, p=''''TODO''')['''TODO''']\n",
    "\n",
    "  return action"
   ]
  },
  {
   "cell_type": "markdown",
   "metadata": {
    "colab_type": "text",
    "id": "_tR9uAWcTnkr"
   },
   "source": [
    "## 3.2 Define the agent's memory\n",
    "\n",
    "Now that we have instantiated the environment and defined the agent network architecture and action function, we are ready to move on to the next step in our RL workflow:\n",
    "1. **Initialize our environment and our agent**: here we will describe the different observations and actions the agent can make in the environemnt.\n",
    "2. **Define our agent's memory**: this will enable the agent to remember its past actions, observations, and rewards.\n",
    "3. **Define the learning algorithm**: this will be used to reinforce the agent's good behaviors and discourage bad behaviors.\n",
    "\n",
    "In reinforcement learning, training occurs alongside the agent's acting in the environment; an *episode* refers to a sequence of actions that ends in some terminal state, such as the pole falling down or the cart crashing. The agent will need to remember all of its observations and actions, such that once an episode ends, it can learn to \"reinforce\" the good actions and punish the undesirable actions via training. Our first step is to define a simple memory buffer that contains the agent's observations, actions, and received rewards from a given episode. \n",
    "\n",
    "**Once again, note the modularity of this memory buffer -- it can and will be applied to other RL tasks as well!**"
   ]
  },
  {
   "cell_type": "code",
   "execution_count": 7,
   "metadata": {
    "colab": {},
    "colab_type": "code",
    "id": "8MM6JwXVQ4JG"
   },
   "outputs": [],
   "source": [
    "### Agent Memory ###\n",
    "\n",
    "class Memory:\n",
    "  def __init__(self): \n",
    "      self.clear()\n",
    "\n",
    "  # Resets/restarts the memory buffer\n",
    "  def clear(self): \n",
    "      self.observations = []\n",
    "      self.actions = []\n",
    "      self.rewards = []\n",
    "\n",
    "  # Add observations, actions, rewards to memory\n",
    "  def add_to_memory(self, new_observation, new_action, new_reward): \n",
    "      self.observations.append(new_observation)\n",
    "      '''TODO: update the list of actions with new action'''\n",
    "      self.actions.append(new_action) # TODO\n",
    "      # ['''TODO''']\n",
    "      '''TODO: update the list of rewards with new reward'''\n",
    "      self.rewards.append(new_reward) # TODO\n",
    "      # ['''TODO''']\n",
    "        \n",
    "memory = Memory()"
   ]
  },
  {
   "cell_type": "markdown",
   "metadata": {
    "colab_type": "text",
    "id": "D4YhtPaUVj5m"
   },
   "source": [
    "## 3.3 Reward function\n",
    "\n",
    "We're almost ready to begin the learning algorithm for our agent! The next step is to compute the rewards of our agent as it acts in the environment. Since we (and the agent) is uncertain about if and when the game or task will end (i.e., when the pole will fall), it is useful to emphasize getting rewards **now** rather than later in the future -- this is the idea of discounting. This is a similar concept to discounting money in the case of interest. ecall from lecture, we use reward discount to give more preference at getting rewards now rather than later in the future. The idea of discounting rewards is similar to discounting money in the case of interest.\n",
    "\n",
    "To compute the expected cumulative reward, known as the **return**, at a given timestep in a learning episode, we sum the discounted rewards expected at that time step $t$, within a learning episode, and projecting into the future. We define the return (cumulative reward) at a time step $t$, $R_{t}$ as:\n",
    "\n",
    ">$R_{t}=\\sum_{k=0}^\\infty\\gamma^kr_{t+k}$\n",
    "\n",
    "where  $0 < \\gamma < 1$ is the discount factor and $r_{t}$ is the reward at time step $t$, and the index $k$ increments projection into the future within a single learning episode. Intuitively, you can think of this function as depreciating any rewards received at later time steps, which will force the agent prioritize getting rewards now. Since we can't extend episodes to infinity, in practice the computation will be limited to the number of timesteps in an episode -- after that the reward is assumed to be zero.\n",
    "\n",
    "Take note of the form of this sum -- we'll have to be clever about how we implement this function. Specifically, we'll need to initialize an array of zeros, with length of the number of time steps, and fill it with the real discounted reward values as we loop through the rewards from the episode, which will have been saved in the agents memory. What we ultimately care about is which actions are better relative to other actions taken in that episode -- so, we'll normalize our computed rewards, using the mean and standard deviation of the rewards across the learning episode.\n"
   ]
  },
  {
   "cell_type": "code",
   "execution_count": 8,
   "metadata": {
    "colab": {},
    "colab_type": "code",
    "id": "5_Q2OFYtQ32X"
   },
   "outputs": [],
   "source": [
    "### Reward function ###\n",
    "\n",
    "# Helper function that normalizes an np.array x\n",
    "def normalize(x):\n",
    "  x -= np.mean(x)\n",
    "  x /= np.std(x)\n",
    "  return x.astype(np.float32)\n",
    "\n",
    "# Compute normalized, discounted, cumulative rewards (i.e., return)\n",
    "# Arguments:\n",
    "#   rewards: reward at timesteps in episode\n",
    "#   gamma: discounting factor\n",
    "# Returns:\n",
    "#   normalized discounted reward\n",
    "def discount_rewards(rewards, gamma=0.95): \n",
    "  discounted_rewards = np.zeros_like(rewards)\n",
    "  R = 0\n",
    "  for t in reversed(range(0, len(rewards))):\n",
    "      # update the total discounted reward\n",
    "      R = R * gamma + rewards[t]\n",
    "      discounted_rewards[t] = R\n",
    "      \n",
    "  return normalize(discounted_rewards)"
   ]
  },
  {
   "cell_type": "markdown",
   "metadata": {
    "colab_type": "text",
    "id": "QzbY-mjGYcmt"
   },
   "source": [
    "## 3.4 Learning algorithm\n",
    "\n",
    "Now we can start to define the learing algorithm which will be used to reinforce good behaviors of the agent and discourage bad behaviours. In this lab, we will focus on *policy gradient* methods which aim to **maximize** the likelihood of actions that result in large rewards. Equivalently, this means that we want to **minimize** the negative likelihood of these same actions. We achieve this by simply **scaling** the probabilities by their associated rewards -- effectively amplifying the likelihood of actions that resujlt in large rewards.\n",
    "\n",
    "Since the log function is monotonically increasing, this means that minimizing **negative likelihood** is equivalent to minimizing **negative log-likelihood**.  Recall that we can easily compute the negative log-likelihood of a discrete action by evaluting its [softmax cross entropy](https://www.tensorflow.org/api_docs/python/tf/nn/sparse_softmax_cross_entropy_with_logits). Like in supervised learning, we can use stochastic gradient descent methods to achieve the desired minimization. \n",
    "\n",
    "Let's begin by defining the loss function."
   ]
  },
  {
   "cell_type": "code",
   "execution_count": 9,
   "metadata": {
    "colab": {},
    "colab_type": "code",
    "id": "fsgZ3IDCY_Zn"
   },
   "outputs": [],
   "source": [
    "### Loss function ###\n",
    "\n",
    "# Arguments:\n",
    "#   logits: network's predictions for actions to take\n",
    "#   actions: the actions the agent took in an episode\n",
    "#   rewards: the rewards the agent received in an episode\n",
    "# Returns:\n",
    "#   loss\n",
    "def compute_loss(logits, actions, rewards): \n",
    "  '''TODO: complete the function call to compute the negative log probabilities'''\n",
    "  neg_logprob = tf.nn.sparse_softmax_cross_entropy_with_logits(logits=logits, labels=actions) # TODO\n",
    "  # neg_logprob = tf.nn.sparse_softmax_cross_entropy_with_logits(logits='''TODO''', labels='''TODO''')\n",
    "  \n",
    "  '''TODO: scale the negative log probability by the rewards'''\n",
    "  loss = tf.reduce_mean( neg_logprob * rewards ) # TODO\n",
    "  # loss = tf.reduce_mean('''TODO''')\n",
    "  return loss"
   ]
  },
  {
   "cell_type": "markdown",
   "metadata": {
    "colab_type": "text",
    "id": "Rr5vQ9fqbPpp"
   },
   "source": [
    "Now let's use the loss function to define a training step of our learning algorithm:"
   ]
  },
  {
   "cell_type": "code",
   "execution_count": 10,
   "metadata": {
    "colab": {},
    "colab_type": "code",
    "id": "_50ada7nbZ7L"
   },
   "outputs": [],
   "source": [
    "### Training step (forward and backpropagation) ###\n",
    "\n",
    "def train_step(model, optimizer, observations, actions, discounted_rewards):\n",
    "  with tf.GradientTape() as tape:\n",
    "      # Forward propagate through the agent network\n",
    "      logits = model(observations)\n",
    "\n",
    "      '''TODO: call the compute_loss function to compute the loss'''\n",
    "      loss = compute_loss(logits, actions, discounted_rewards) # TODO\n",
    "      # loss = compute_loss('''TODO''', '''TODO''', '''TODO''')\n",
    "\n",
    "  '''TODO: run backpropagation to minimize the loss using the tape.gradient method'''\n",
    "  grads = tape.gradient(loss, model.trainable_variables) # TODO\n",
    "  # grads = tape.gradient('''TODO''', model.trainable_variables)\n",
    "  optimizer.apply_gradients(zip(grads, model.trainable_variables))\n"
   ]
  },
  {
   "cell_type": "markdown",
   "metadata": {
    "colab_type": "text",
    "id": "XsjKXh6BcgjR"
   },
   "source": [
    "## 3.5 Run cartpole!\n",
    "\n",
    "Having had no prior knowledge of the environment, the agent will begin to learn how to balance the pole on the cart based only on the feedback received from the environment! Having defined how our agent can move, how it takes in new observations, and how it updates its state, we'll see how it gradually learns a policy of actions to optimize balancing the pole as long as possible. To do this, we'll track how the rewards evolve as a function of training -- how should the rewards change as training progresses?"
   ]
  },
  {
   "cell_type": "code",
   "execution_count": 0,
   "metadata": {
    "colab": {},
    "colab_type": "code",
    "id": "XmOzc2rrcn8Q"
   },
   "outputs": [],
   "source": [
    "### Cartpole training! ###\n",
    "\n",
    "# Learning rate and optimizer\n",
    "learning_rate = 1e-3\n",
    "optimizer = tf.keras.optimizers.Adam(learning_rate)\n",
    "\n",
    "# instantiate cartpole agent\n",
    "cartpole_model = create_cartpole_model()\n",
    "\n",
    "# to track our progress\n",
    "smoothed_reward = mdl.util.LossHistory(smoothing_factor=0.9)\n",
    "plotter = mdl.util.PeriodicPlotter(sec=2, xlabel='Iterations', ylabel='Rewards')\n",
    "\n",
    "if hasattr(tqdm, '_instances'): tqdm._instances.clear() # clear if it exists\n",
    "for i_episode in range(500):\n",
    "\n",
    "  plotter.plot(smoothed_reward.get())\n",
    "\n",
    "  # Restart the environment\n",
    "  observation = env.reset()\n",
    "  memory.clear()\n",
    "\n",
    "  while True:\n",
    "      # using our observation, choose an action and take it in the environment\n",
    "      action = choose_action(cartpole_model, observation)\n",
    "      next_observation, reward, done, info = env.step(action)\n",
    "      # add to memory\n",
    "      memory.add_to_memory(observation, action, reward)\n",
    "      \n",
    "      # is the episode over? did you crash or do so well that you're done?\n",
    "      if done:\n",
    "          # determine total reward and keep a record of this\n",
    "          total_reward = sum(memory.rewards)\n",
    "          smoothed_reward.append(total_reward)\n",
    "          \n",
    "          # initiate training - remember we don't know anything about how the \n",
    "          #   agent is doing until it has crashed!\n",
    "          train_step(cartpole_model, optimizer, \n",
    "                     observations=np.vstack(memory.observations),\n",
    "                     actions=np.array(memory.actions),\n",
    "                     discounted_rewards = discount_rewards(memory.rewards))\n",
    "          \n",
    "          # reset the memory\n",
    "          memory.clear()\n",
    "          break\n",
    "      # update our observatons\n",
    "      observation = next_observation"
   ]
  },
  {
   "cell_type": "markdown",
   "metadata": {
    "colab_type": "text",
    "id": "mkcUtGF1VE-K"
   },
   "source": [
    "To get a sense of how our agent did, we can save a video of the trained model working on balancing the pole. Realize that this is a brand new environment that the agent has not seen before!\n",
    "\n",
    "Let's display the saved video to watch how our agent did!\n"
   ]
  },
  {
   "cell_type": "code",
   "execution_count": 0,
   "metadata": {
    "colab": {},
    "colab_type": "code",
    "id": "PAYBkv6Zbk0J"
   },
   "outputs": [],
   "source": [
    "saved_cartpole = mdl.lab3.save_video_of_model(cartpole_model, \"CartPole-v0\")\n",
    "mdl.lab3.play_video(saved_cartpole)"
   ]
  },
  {
   "cell_type": "markdown",
   "metadata": {
    "colab_type": "text",
    "id": "CSbVNDpaVb3_"
   },
   "source": [
    "How does the agent perform? Could you train it for shorter amounts of time and still perform well? Do you think that training longer would help even more? "
   ]
  },
  {
   "cell_type": "markdown",
   "metadata": {
    "colab_type": "text",
    "id": "Eu6Mqxc720ST"
   },
   "source": [
    "#Part 2: Pong\n",
    "\n",
    "In Cartpole, we dealt with an environment that was static -- in other words, it didn't change over time. What happens if our environment is dynamic and unpredictable? Well that's exactly the case in [Pong](https://en.wikipedia.org/wiki/Pong), since part of the environment is the opposing player. We don't know how our opponent will act or react to our actions, so the complexity of our problem increases. It also becomes much more interesting, since we can compete to beat our opponent. RL provides a powerful framework for training AI systems with the ability to handle and interact with dynamic, unpredictable environments. In this part of the lab, we'll use the tools and workflow we explored in Part 1 to build an RL agent capable of playing the game of Pong.\n"
   ]
  },
  {
   "cell_type": "markdown",
   "metadata": {
    "colab_type": "text",
    "id": "srZ4YE29isuA"
   },
   "source": [
    "## 3.6 Define and inspect the Pong environment\n",
    "\n",
    "As with Cartpole, we'll instantiate the Pong environment in the OpenAI gym, using a seed of 1."
   ]
  },
  {
   "cell_type": "code",
   "execution_count": 11,
   "metadata": {
    "colab": {},
    "colab_type": "code",
    "id": "lbYHLr66i15n"
   },
   "outputs": [],
   "source": [
    "env = gym.make(\"Pong-v0\", frameskip=5)\n",
    "env.seed(1); # for reproducibility"
   ]
  },
  {
   "cell_type": "markdown",
   "metadata": {
    "colab_type": "text",
    "id": "52uZ2Xhyi-MW"
   },
   "source": [
    "Let's next consider the observation space for the Pong environment. Instead of four physical descriptors of the cart-pole setup, in the case of Pong our observations are the individual video frames (i.e., images) that depict the state of the board. Thus, the observations are 210x160 RGB images (arrays of shape (210,160,3)).\n",
    "\n",
    "We can again confirm the size of the observation space by query:"
   ]
  },
  {
   "cell_type": "code",
   "execution_count": 12,
   "metadata": {
    "colab": {},
    "colab_type": "code",
    "id": "0yX4GWvxjnHS"
   },
   "outputs": [
    {
     "name": "stdout",
     "output_type": "stream",
     "text": [
      "Environment has observation space = Box(210, 160, 3)\n"
     ]
    }
   ],
   "source": [
    "print(\"Environment has observation space =\", env.observation_space)"
   ]
  },
  {
   "cell_type": "markdown",
   "metadata": {
    "colab_type": "text",
    "id": "uuEC2TdSjx9D"
   },
   "source": [
    "In Pong, at every time step, the agent (which controls the paddle) has six actions to choose from: no-op (no operation), move right, move left, fire, fire right, and fire left. Let's confirm the size of the action space by querying the environment:"
   ]
  },
  {
   "cell_type": "code",
   "execution_count": 13,
   "metadata": {
    "colab": {},
    "colab_type": "code",
    "id": "Iuy9oPc1kag3"
   },
   "outputs": [
    {
     "name": "stdout",
     "output_type": "stream",
     "text": [
      "Number of possible actions that the agent can choose from = 6\n"
     ]
    }
   ],
   "source": [
    "n_actions = env.action_space.n\n",
    "print(\"Number of possible actions that the agent can choose from =\", n_actions)"
   ]
  },
  {
   "cell_type": "markdown",
   "metadata": {
    "colab_type": "text",
    "id": "9-fghDRigUE5"
   },
   "source": [
    "## 3.7 Define the Pong agent\n",
    "\n",
    "As before, we'll use a neural network to define our agent. What network architecture do you think would be especially well suited to this game? Since our observations are now in the form of images, we'll add convolutional layers to the network to increase the learning capacity of our network."
   ]
  },
  {
   "cell_type": "code",
   "execution_count": 14,
   "metadata": {
    "colab": {},
    "colab_type": "code",
    "id": "IJiqbFYpgYRH"
   },
   "outputs": [],
   "source": [
    "### Define the Pong agent ###\n",
    "\n",
    "# Functionally define layers for convenience\n",
    "# All convolutional layers will have ReLu activation\n",
    "Conv2D = functools.partial(tf.keras.layers.Conv2D, padding='same', activation='relu')\n",
    "Flatten = tf.keras.layers.Flatten\n",
    "Dense = tf.keras.layers.Dense\n",
    "\n",
    "# Defines a CNN for the Pong agent\n",
    "def create_pong_model():\n",
    "  model = tf.keras.models.Sequential([\n",
    "    # Convolutional layers\n",
    "    # First, 16 7x7 filters and 4x4 stride\n",
    "    Conv2D(filters=16, kernel_size=7, strides=4),\n",
    "\n",
    "    # TODO: define convolutional layers with 32 5x5 filters and 2x2 stride\n",
    "    Conv2D(filters=32, kernel_size=5, strides=2), # TODO\n",
    "    # Conv2D('''TODO'''),\n",
    "\n",
    "    # TODO: define convolutional layers with 48 3x3 filters and 2x2 stride\n",
    "    Conv2D(filters=48, kernel_size=3, strides=2), # TODO\n",
    "    # Conv2D('''TODO'''),\n",
    "\n",
    "    Flatten(),\n",
    "    \n",
    "    # Fully connected layer and output\n",
    "    Dense(units=64, activation='relu'),\n",
    "    # TODO: define the output dimension of the last Dense layer. \n",
    "    # Pay attention to the space the agent needs to act in\n",
    "    Dense(units=n_actions, activation=None) # TODO\n",
    "    # Dense('''TODO''')\n",
    "  \n",
    "  ])\n",
    "  return model\n",
    "\n",
    "pong_model = create_pong_model()"
   ]
  },
  {
   "cell_type": "markdown",
   "metadata": {
    "colab_type": "text",
    "id": "yaeZ067olFiJ"
   },
   "source": [
    "Since we've already defined the action function, `choose_action(model, observation)`, we don't need to define it again. Instead, we'll be able to reuse it later on by passing in our new model we've just created, `pong_model`. This is awesome because our action function provides a modular and generalizable method for all sorts of RL agents!"
   ]
  },
  {
   "cell_type": "markdown",
   "metadata": {
    "colab_type": "text",
    "id": "l0RvqOVkmc2r"
   },
   "source": [
    "## 3.8 Pong-specific functions\n",
    "\n",
    "In Part 1 (Cartpole), we implemented some key functions and classes to build and train our RL agent -- `choose_action(model, observation)` and the `Memory` class, for example. However, in getting ready to apply these to a new game like Pong, we might need to make some slight modifications. \n",
    "\n",
    "Namely, we need to think about what happens when a game ends. In Pong, we know a game has ended if the reward is +1 (we won!) or -1 (we lost unfortunately). Otherwise, we expect the reward at a timestep to be zero -- the players (or agents) are just playing eachother. So, after a game ends, we will need to reset the reward to zero when a game ends. This will result in a modified reward function."
   ]
  },
  {
   "cell_type": "code",
   "execution_count": 15,
   "metadata": {
    "colab": {},
    "colab_type": "code",
    "id": "iEZG2o50luLu"
   },
   "outputs": [],
   "source": [
    "### Pong reward function ###\n",
    "\n",
    "# Compute normalized, discounted rewards for Pong (i.e., return)\n",
    "# Arguments:\n",
    "#   rewards: reward at timesteps in episode\n",
    "#   gamma: discounting factor. Note increase to 0.99 -- rate of depreciation will be slower.\n",
    "# Returns:\n",
    "#   normalized discounted reward\n",
    "def discount_rewards(rewards, gamma=0.99): \n",
    "  discounted_rewards = np.zeros_like(rewards)\n",
    "  R = 0\n",
    "  for t in reversed(range(0, len(rewards))):\n",
    "      # NEW: Reset the sum if the reward is not 0 (the game has ended!)\n",
    "      if rewards[t] != 0:\n",
    "        R = 0\n",
    "      # update the total discounted reward as before\n",
    "      R = R * gamma + rewards[t]\n",
    "      discounted_rewards[t] = R\n",
    "      \n",
    "  return normalize(discounted_rewards)"
   ]
  },
  {
   "cell_type": "markdown",
   "metadata": {
    "colab_type": "text",
    "id": "HopLpb4IoOqA"
   },
   "source": [
    "Additionally, we have to consider the nature of the observations in the Pong environment, and how they will be fed into our network. Our observations in this case are images. Before we input an image into our network, we'll do a bit of pre-processing to crop and scale, clean up the background colors to a single color, and set the important game elements to a single color. Let's use this function to visualize what an observation might look like before and after pre-processing."
   ]
  },
  {
   "cell_type": "code",
   "execution_count": 16,
   "metadata": {
    "colab": {},
    "colab_type": "code",
    "id": "no5IIYtFm8pI"
   },
   "outputs": [
    {
     "data": {
      "image/png": "[encoded data removed]",
      "text/plain": [
       "<Figure size 720x216 with 2 Axes>"
      ]
     },
     "metadata": {
      "needs_background": "light"
     },
     "output_type": "display_data"
    }
   ],
   "source": [
    "observation = env.reset()\n",
    "for i in range(30):\n",
    "  observation, _,_,_ = env.step(0)\n",
    "observation_pp = mdl.lab3.preprocess_pong(observation)\n",
    "\n",
    "f = plt.figure(figsize=(10,3))\n",
    "ax = f.add_subplot(121)\n",
    "ax2 = f.add_subplot(122)\n",
    "ax.imshow(observation); ax.grid(False);\n",
    "ax2.imshow(np.squeeze(observation_pp)); ax2.grid(False); plt.title('Preprocessed Observation');"
   ]
  },
  {
   "cell_type": "markdown",
   "metadata": {
    "colab_type": "text",
    "id": "bYwIWC-Cz8F2"
   },
   "source": [
    "What do you notice? How might these changes be important for training our RL algorithm?"
   ]
  },
  {
   "cell_type": "markdown",
   "metadata": {
    "colab_type": "text",
    "id": "mRqcaDQ1pm3x"
   },
   "source": [
    "## 3.9 Training Pong\n",
    "\n",
    "We're now all set up to start training our RL algorithm and agent for the game of Pong! We've already defined our loss function with `compute_loss`, which employs policy gradient learning, as well as our backpropagation step with `train_step` which is beautiful! We will use these functions to execute training the Pong agent. Let's walk through the training block.\n",
    "\n",
    "In Pong, rather than feeding our network one image at a time, it can actually improve performance to input the difference between two consecutive observations, which really gives us information about the movement between frames -- how the game is changing. We'll first pre-process the raw observation, `x`, and then we'll compute the difference with the image frame we saw one timestep before. \n",
    "\n",
    "This observation change will be forward propagated through our Pong agent, the CNN network model, which will then predict the next action to take based on this observation. The raw reward will be computed, and the observation, action, and reward will be recorded into memory. This will continue until a training episode, i.e., a game, ends.\n",
    "\n",
    "Then, we will compute the discounted rewards, and use this information to execute a training step. Memory will be cleared, and we will do it all over again!\n",
    "\n",
    "Let's run the code block to train our Pong agent. Note that completing training will take quite a bit of time (estimated at least a couple of hours). We will again visualize the evolution of the total reward as a function of training to get a sense of how the agent is learning."
   ]
  },
  {
   "cell_type": "code",
   "execution_count": 17,
   "metadata": {
    "colab": {},
    "colab_type": "code",
    "id": "xCwyQQrPnkZG"
   },
   "outputs": [
    {
     "data": {
      "image/png": "[encoded data removed]",
      "text/plain": [
       "<Figure size 432x288 with 1 Axes>"
      ]
     },
     "metadata": {},
     "output_type": "display_data"
    },
    {
     "data": {
      "image/png": "[encoded data removed]",
      "text/plain": [
       "<Figure size 432x288 with 1 Axes>"
      ]
     },
     "metadata": {
      "needs_background": "light"
     },
     "output_type": "display_data"
    }
   ],
   "source": [
    "### Training Pong ###\n",
    "\n",
    "# Hyperparameters\n",
    "learning_rate=1e-4\n",
    "MAX_ITERS = 100 # increase the maximum number of episodes, since Pong is more complex!\n",
    "\n",
    "# Model and optimizer\n",
    "pong_model = create_pong_model()\n",
    "optimizer = tf.keras.optimizers.Adam(learning_rate)\n",
    "\n",
    "# plotting\n",
    "smoothed_reward = mdl.util.LossHistory(smoothing_factor=0.9)\n",
    "plotter = mdl.util.PeriodicPlotter(sec=5, xlabel='Iterations', ylabel='Rewards')\n",
    "memory = Memory()\n",
    "\n",
    "for i_episode in range(MAX_ITERS):\n",
    "\n",
    "  plotter.plot(smoothed_reward.get())\n",
    "\n",
    "  # Restart the environment\n",
    "  observation = env.reset()\n",
    "  previous_frame = mdl.lab3.preprocess_pong(observation)\n",
    "\n",
    "  while True:\n",
    "      # Pre-process image \n",
    "      current_frame = mdl.lab3.preprocess_pong(observation)\n",
    "      \n",
    "      '''TODO: determine the observation change\n",
    "      Hint: this is the difference between the past two frames'''\n",
    "      obs_change = current_frame - previous_frame # TODO\n",
    "      # obs_change = # TODO\n",
    "      \n",
    "      '''TODO: choose an action for the pong model, using the frame difference, and evaluate'''\n",
    "      action = choose_action(pong_model, obs_change) # TODO \n",
    "      # action = # TODO\n",
    "      # Take the chosen action\n",
    "      next_observation, reward, done, info = env.step(action)\n",
    "\n",
    "      '''TODO: save the observed frame difference, the action that was taken, and the resulting reward!'''\n",
    "      memory.add_to_memory(obs_change, action, reward) # TODO\n",
    "      \n",
    "      # is the episode over? did you crash or do so well that you're done?\n",
    "      if done:\n",
    "          # determine total reward and keep a record of this\n",
    "          total_reward = sum(memory.rewards)\n",
    "          smoothed_reward.append( total_reward )\n",
    "\n",
    "          # begin training\n",
    "          train_step(pong_model, \n",
    "                     optimizer, \n",
    "                     observations = np.stack(memory.observations, 0), \n",
    "                     actions = np.array(memory.actions),\n",
    "                     discounted_rewards = discount_rewards(memory.rewards))\n",
    "          \n",
    "          memory.clear()\n",
    "          break\n",
    "\n",
    "      observation = next_observation\n",
    "      previous_frame = current_frame"
   ]
  },
  {
   "cell_type": "markdown",
   "metadata": {
    "colab_type": "text",
    "id": "8LiEY5Y_ts-Z"
   },
   "source": [
    "Finally we can put our trained agent to the test! It will play in a newly instantiated Pong environment against the \"computer\", a base AI system for Pong. Your agent plays as the green paddle. Let's watch the match instant replay!"
   ]
  },
  {
   "cell_type": "code",
   "execution_count": 18,
   "metadata": {
    "colab": {},
    "colab_type": "code",
    "id": "TvHXbkL0tR6M"
   },
   "outputs": [
    {
     "name": "stdout",
     "output_type": "stream",
     "text": [
      "Successfully saved 585 frames into Pong-v0.mp4!\n"
     ]
    },
    {
     "data": {
      "text/html": [
       "\n",
       "        <video controls>\n",
       "            <source src=\"data:video/mp4;base64,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\" type=\"video/mp4\" />\n",
       "        </video>"
      ],
      "text/plain": [
       "<IPython.core.display.HTML object>"
      ]
     },
     "execution_count": 18,
     "metadata": {},
     "output_type": "execute_result"
    }
   ],
   "source": [
    "saved_pong = mdl.lab3.save_video_of_model(\n",
    "    pong_model, \"Pong-v0\", obs_diff=True, \n",
    "    pp_fn=mdl.lab3.preprocess_pong)\n",
    "mdl.lab3.play_video(saved_pong)"
   ]
  },
  {
   "cell_type": "markdown",
   "metadata": {
    "colab_type": "text",
    "id": "TIlwIgBP3Js6"
   },
   "source": [
    "## 3.10 Conclusion\n",
    "\n",
    "That's it! Congratulations on training two RL agents and putting them to the test! We encourage you to consider the following:\n",
    "\n",
    "*   How does the agent perform?\n",
    "*   Could you train it for shorter amounts of time  and still perform well?\n",
    "*   Do you think that training longer would help even more? \n",
    "* How does the complexity of Pong relative to Cartpole alter the rate at which the agent learns and its performance? \n",
    "* What are some things you could change about the agent or the learning process to potentially improve performance?\n",
    "\n",
    "If you want to go further, try to optimize your model to achieve the best performance! **[Email us](mailto:introtodeeplearning-staff@mit.edu) a copy of your notebook with the Pong training executed AND a saved video of your Pong agent competing! We'll give out prizes to the best performers!**"
   ]
  }
 ],
 "metadata": {
  "accelerator": "GPU",
  "colab": {
   "collapsed_sections": [
    "jrI6q7RmWQam"
   ],
   "name": "RL_Solution.ipynb",
   "provenance": [
    {
     "file_id": "https://github.com/aamini/introtodeeplearning/blob/master/lab3/Lab3_rl_solution.ipynb",
     "timestamp": 1578019824654
    }
   ]
  },
  "kernelspec": {
   "display_name": "Python 3",
   "language": "python",
   "name": "python3"
  },
  "language_info": {
   "codemirror_mode": {
    "name": "ipython",
    "version": 3
   },
   "file_extension": ".py",
   "mimetype": "text/x-python",
   "name": "python",
   "nbconvert_exporter": "python",
   "pygments_lexer": "ipython3",
   "version": "3.7.7"
  }
 },
 "nbformat": 4,
 "nbformat_minor": 1
}
